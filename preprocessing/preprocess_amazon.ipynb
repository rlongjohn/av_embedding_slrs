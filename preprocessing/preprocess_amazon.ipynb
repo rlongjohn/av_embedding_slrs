{
 "cells": [
  {
   "cell_type": "code",
   "execution_count": 1,
   "metadata": {},
   "outputs": [],
   "source": [
    "from glob import glob\n",
    "from glob import escape\n",
    "import pandas as pd"
   ]
  },
  {
   "cell_type": "code",
   "execution_count": 2,
   "metadata": {},
   "outputs": [],
   "source": [
    "data_dir = '../datasets/amazon/*/'"
   ]
  },
  {
   "cell_type": "code",
   "execution_count": 5,
   "metadata": {},
   "outputs": [],
   "source": [
    "user = glob(data_dir)[0]"
   ]
  },
  {
   "cell_type": "code",
   "execution_count": 9,
   "metadata": {},
   "outputs": [
    {
     "name": "stdout",
     "output_type": "stream",
     "text": [
      "../datasets/amazon/A1HGXLP6WATS4B[Y]/known - A1HGXLP6WATS4B - HomeandKitchen.txt\n",
      "../datasets/amazon/A1HGXLP6WATS4B[Y]/unknown - A1HGXLP6WATS4B - OfficeProducts.txt\n"
     ]
    }
   ],
   "source": [
    "fname_known = glob(escape(user) + '/*')[0]\n",
    "fname_unknown = glob(escape(user) + '/*')[4]\n",
    "print(fname_known)\n",
    "print(fname_unknown)"
   ]
  },
  {
   "cell_type": "code",
   "execution_count": 14,
   "metadata": {},
   "outputs": [
    {
     "data": {
      "text/plain": [
       "'A1HGXLP6WATS4B'"
      ]
     },
     "execution_count": 14,
     "metadata": {},
     "output_type": "execute_result"
    }
   ],
   "source": [
    "fname_known.split('/')[4].split(' - ')[1]"
   ]
  },
  {
   "cell_type": "code",
   "execution_count": 15,
   "metadata": {},
   "outputs": [
    {
     "data": {
      "text/plain": [
       "'A1HGXLP6WATS4B'"
      ]
     },
     "execution_count": 15,
     "metadata": {},
     "output_type": "execute_result"
    }
   ],
   "source": [
    "fname_unknown.split('/')[4].split(' - ')[1]"
   ]
  },
  {
   "cell_type": "code",
   "execution_count": 16,
   "metadata": {},
   "outputs": [],
   "source": [
    "user_ids = []\n",
    "text_ids = []\n",
    "texts = []\n",
    "\n",
    "for prob_dir in glob(data_dir):\n",
    "    \n",
    "    text_counter = 0\n",
    "    files = glob(escape(prob_dir) + '/known*')\n",
    "\n",
    "    for file in files:\n",
    "        user_id = file.split('/')[4].split(' - ')[1]\n",
    "        user_ids.append(user_id)\n",
    "        text_ids.append(text_counter)\n",
    "        text_counter += 1 \n",
    "        fp = open(file)\n",
    "        texts.append(fp.read())\n",
    "        fp.close()\n",
    "\n",
    "# put into dataframe\n",
    "text_data = pd.DataFrame({'user_id': user_ids, 'text_id': text_ids, 'text': texts})"
   ]
  },
  {
   "cell_type": "code",
   "execution_count": 17,
   "metadata": {},
   "outputs": [
    {
     "data": {
      "text/html": [
       "<div>\n",
       "<style scoped>\n",
       "    .dataframe tbody tr th:only-of-type {\n",
       "        vertical-align: middle;\n",
       "    }\n",
       "\n",
       "    .dataframe tbody tr th {\n",
       "        vertical-align: top;\n",
       "    }\n",
       "\n",
       "    .dataframe thead th {\n",
       "        text-align: right;\n",
       "    }\n",
       "</style>\n",
       "<table border=\"1\" class=\"dataframe\">\n",
       "  <thead>\n",
       "    <tr style=\"text-align: right;\">\n",
       "      <th></th>\n",
       "      <th>user_id</th>\n",
       "      <th>text_id</th>\n",
       "      <th>text</th>\n",
       "    </tr>\n",
       "  </thead>\n",
       "  <tbody>\n",
       "    <tr>\n",
       "      <th>0</th>\n",
       "      <td>A1HGXLP6WATS4B</td>\n",
       "      <td>0</td>\n",
       "      <td>My decision to purchase a bagless upright, the...</td>\n",
       "    </tr>\n",
       "    <tr>\n",
       "      <th>1</th>\n",
       "      <td>A1HGXLP6WATS4B</td>\n",
       "      <td>1</td>\n",
       "      <td>After trying it once, I keep my pantry stocked...</td>\n",
       "    </tr>\n",
       "    <tr>\n",
       "      <th>2</th>\n",
       "      <td>A1HGXLP6WATS4B</td>\n",
       "      <td>2</td>\n",
       "      <td>I was pleasantly surprised when I began using ...</td>\n",
       "    </tr>\n",
       "    <tr>\n",
       "      <th>3</th>\n",
       "      <td>A1HGXLP6WATS4B</td>\n",
       "      <td>3</td>\n",
       "      <td>This is a replacement for the original Trackma...</td>\n",
       "    </tr>\n",
       "    <tr>\n",
       "      <th>4</th>\n",
       "      <td>A226GFM0Q9L37H</td>\n",
       "      <td>0</td>\n",
       "      <td>This is a great formula for premature babies. ...</td>\n",
       "    </tr>\n",
       "    <tr>\n",
       "      <th>...</th>\n",
       "      <td>...</td>\n",
       "      <td>...</td>\n",
       "      <td>...</td>\n",
       "    </tr>\n",
       "    <tr>\n",
       "      <th>18301</th>\n",
       "      <td>AVFJ327UXPXLF</td>\n",
       "      <td>1</td>\n",
       "      <td>I purchased this movie because I felt that the...</td>\n",
       "    </tr>\n",
       "    <tr>\n",
       "      <th>18302</th>\n",
       "      <td>AVFJ327UXPXLF</td>\n",
       "      <td>2</td>\n",
       "      <td>Nearly 30 years ago, I lived in Germany where ...</td>\n",
       "    </tr>\n",
       "    <tr>\n",
       "      <th>18303</th>\n",
       "      <td>AVFJ327UXPXLF</td>\n",
       "      <td>3</td>\n",
       "      <td>I love these Builder Bars. They are the best t...</td>\n",
       "    </tr>\n",
       "    <tr>\n",
       "      <th>18304</th>\n",
       "      <td>AVFJ327UXPXLF</td>\n",
       "      <td>4</td>\n",
       "      <td>I bought this for weight lifting and running. ...</td>\n",
       "    </tr>\n",
       "    <tr>\n",
       "      <th>18305</th>\n",
       "      <td>AVFJ327UXPXLF</td>\n",
       "      <td>5</td>\n",
       "      <td>I have the iphone and ordered these protector ...</td>\n",
       "    </tr>\n",
       "  </tbody>\n",
       "</table>\n",
       "<p>18306 rows × 3 columns</p>\n",
       "</div>"
      ],
      "text/plain": [
       "              user_id  text_id  \\\n",
       "0      A1HGXLP6WATS4B        0   \n",
       "1      A1HGXLP6WATS4B        1   \n",
       "2      A1HGXLP6WATS4B        2   \n",
       "3      A1HGXLP6WATS4B        3   \n",
       "4      A226GFM0Q9L37H        0   \n",
       "...               ...      ...   \n",
       "18301   AVFJ327UXPXLF        1   \n",
       "18302   AVFJ327UXPXLF        2   \n",
       "18303   AVFJ327UXPXLF        3   \n",
       "18304   AVFJ327UXPXLF        4   \n",
       "18305   AVFJ327UXPXLF        5   \n",
       "\n",
       "                                                    text  \n",
       "0      My decision to purchase a bagless upright, the...  \n",
       "1      After trying it once, I keep my pantry stocked...  \n",
       "2      I was pleasantly surprised when I began using ...  \n",
       "3      This is a replacement for the original Trackma...  \n",
       "4      This is a great formula for premature babies. ...  \n",
       "...                                                  ...  \n",
       "18301  I purchased this movie because I felt that the...  \n",
       "18302  Nearly 30 years ago, I lived in Germany where ...  \n",
       "18303  I love these Builder Bars. They are the best t...  \n",
       "18304  I bought this for weight lifting and running. ...  \n",
       "18305  I have the iphone and ordered these protector ...  \n",
       "\n",
       "[18306 rows x 3 columns]"
      ]
     },
     "execution_count": 17,
     "metadata": {},
     "output_type": "execute_result"
    }
   ],
   "source": [
    "text_data"
   ]
  },
  {
   "cell_type": "code",
   "execution_count": 19,
   "metadata": {},
   "outputs": [],
   "source": [
    "users = text_data.user_id.unique()"
   ]
  },
  {
   "cell_type": "code",
   "execution_count": 27,
   "metadata": {},
   "outputs": [],
   "source": [
    "import json"
   ]
  },
  {
   "cell_type": "code",
   "execution_count": 31,
   "metadata": {},
   "outputs": [],
   "source": [
    "from math import floor"
   ]
  },
  {
   "cell_type": "code",
   "execution_count": 32,
   "metadata": {},
   "outputs": [
    {
     "data": {
      "text/plain": [
       "2905"
      ]
     },
     "execution_count": 32,
     "metadata": {},
     "output_type": "execute_result"
    }
   ],
   "source": [
    "floor(0.9*len(users))"
   ]
  },
  {
   "cell_type": "code",
   "execution_count": 36,
   "metadata": {},
   "outputs": [],
   "source": [
    "n_train_users = floor(0.9*len(users))\n",
    "train_users = users[0:n_train_users]\n",
    "test_users = users[n_train_users:len(users)]"
   ]
  },
  {
   "cell_type": "code",
   "execution_count": 38,
   "metadata": {},
   "outputs": [],
   "source": [
    "test_user = train_users[0]"
   ]
  },
  {
   "cell_type": "code",
   "execution_count": 41,
   "metadata": {},
   "outputs": [
    {
     "data": {
      "text/plain": [
       "4"
      ]
     },
     "execution_count": 41,
     "metadata": {},
     "output_type": "execute_result"
    }
   ],
   "source": [
    "len(text_data.text[text_data.user_id == test_user].to_list())"
   ]
  },
  {
   "cell_type": "code",
   "execution_count": 42,
   "metadata": {},
   "outputs": [],
   "source": [
    "import itertools"
   ]
  },
  {
   "cell_type": "code",
   "execution_count": 45,
   "metadata": {},
   "outputs": [
    {
     "name": "stdout",
     "output_type": "stream",
     "text": [
      "['My decision to purchase a bagless upright, the Bissell Cleanview, was made because I could no longer find bags locally for my other upright.The Bissell does a great job vacuuming carpets and picking up pet hair. I have no complaints about the performance. It has excellent suction and gets the deep down dirt and dust. The dirt cup is easy to remove, empty, and replace. The extension hose is strechier and of better quality than most of the competition in this price range.It doesn\\'t have features such as a dirt-sensor, an on-off switch for the revolving brushes, or a floating cleaning head (it uses a manual height adjustment knob). What it lacks in features it makes up for by it\\'s low purchase price and good performance.Why only 4 stars? It does have a few draw-backs of which some are inherent to a bagless vac.*Although the manual says monthly, the foam filters really need to be cleaned after each use. By the time you remove them, wash them, and reinstall them, it would have been a lot faster and less messy to just change a bag.*Anyone who thinks they will be saving money by not having to buy bags is just kidding themselves. All the filters can be rinsed and reused, including the hepa filter, but they will eventually have to be replaced. If you replace the hepa filter yearly you\\'ll far surpass the cost of bags - and this model has one of the less expensive ones.*Surprisingly for it\\'s light weight it\\'s harder to push on some carpets than my older upright which weighs almost 10 lbs more.*The noise level is on the high side.In summary: The Bissell performs well and I don\\'t regret the purchase. Performance is equal to my bagged upright which cost more than triple the price but I\\'m going to keep searching for bags for my other upright because of the hassle of cleaning all the filters. I was pleasantly surprised at the ability of this little vac to pick up pet hair. Removing the handle is accomplished easily to facilitate cleaning pet hair from furniture. The vac can be operated with the revolving brush on or off by selecting the appropriate setting at the switch.It\\'s great for small quick cleanups on carpet or cleaning bare floors. Make no mistake, this is not a replacement for a full-size, full-power vac. As a test I used this product on a section of heavy-traffic carpet that went two weeks without cleaning. It picked up the pet hair fairly well and filled it\\'s dust cup. I then cleaned the same section with a new Bissel Cleanview Bagless upright (I\\'ve also written a review for the Bissel). The Bissel picked up enough pet hair, dust and dirt to fill the Eureka\\'s dust cup several times. The dust cup on the Eureka is easy to remove but messy to empty and tapping it to remove the dust results in dust flying everywhere.Keeping in mind what it\\'s designed for, I give the Eureka Boss Superbroom 4 stars. If you have lots of carpeting in your home, don\\'t even consider this to be your primary vac. As a primary vac I would give it only one star. It has become nearly impossible to find glass sun tea jars anymore and I\\'m tired of the plastic ones slowly deforming in the dishwasher (even with heat dry off). I thought I\\'d found the \"perfect jar\" for making sun tea with a wide mouth as show in the picture. Alas and alack, the picture of the jar is in error and does not correctly represent the actual shape of this otherwise excellent glass jar. The mouth is much narrower than a person would believe by the picture.I ordered my jar through Amazon to take advantage of Amazon Prime as well as the knowledge that Amazon would take care of the problem should any issues arise. The jar arrived well packaged and undamaged. The rubber gasket was inside the jar so as not to be lost.The jar itself seems to be of excellent quality and has survived trips through the dishwasher and even a few light bangs and bumps. My only reason for deducting one star is that the picture does not truely represent the size of the opening which I had hoped would allow a ', 'After trying it once, I keep my pantry stocked with Zatarain\\'s Jambalaya mix. Making Jambalaya from scratch can be daunting but this is perfectly seasoned out of the box. I\\'ve tried using a variety of meats, chicken, and sausage and never tire of the flavor.This is a \"must have\" for those who love authentic Jambalaya but don\\'t want to make it from scratch. My first experience with Kitchens of India was with their Curry Paste Variety Pack. Of those, my favorite was the Chicken Curry so this time I bought only the Chicken Curry Paste.It is very easy to use. Put the paste in a pan, blend with water, and your chicken, and soon you\\'ll have a very good and authentic tasting chicken dish. For someone like me who\\'s favorite kitchen appliance is the microwave oven this is great. I\\'ve only been able to eat Indian Cousine a few times in a restaurant but the spicy, delectable foods were memorable. Using this curry paste allows me to bring that flavor to my kitchen, it contains all the seasonings so nothing needs to be added unless you want to kick it up a bit. I\\'ll sometimes add a little extra red pepper and curry powder for that extra bit of heat that I love.It\\'s a great product at a great price and I plan to keep it stocked in my kitchen. This is the first \"Donut House\" coffee I\\'ve tried that really made me remember the coffee at the Donut House of years gone by and is the smoothest K-cup I\\'ve experienced yet. It is truely a coffee you can enjoy at any time.I read one review in which the reviewer stated that this was watery in comparison to theCoffee People Donut Shop Medium Roast, Extra Bold for Keurig Brewers, 24-Count K-Cups (Pack of 2). If all you drink is dark roast or extra bold you might agree. However, because the blend is so versitile you can brew a smaller cup for a stronger taste or if you prefer a lighter taste, brew a larger cup. Not everyone prefers a dark roast coffee or one that is so strong that your spoon nearly stands in it unassisted (Turkish coffee for example).Since dark roasts have become more popular it is more difficult to find a medium or lighter roast with good flavor. Whether you enjoy a few cups in the morning, drink a warming cup while reading a book on a rainy day or enjoy a cup with your friends. This coffee will fill the bill. I\\'ve yet to hear a complaint from any friends when I brew this blend to their personal preferences. Now that is versatility.The Timothy\\'s Original Donut Blend is the best all around k-cup coffee I\\'ve had and would not hesitate to recommend or serve it to friends or coffee connoisseurs alike. These peppercorns looked to be a good buy and in 4 sealed bags I could keep them fresher longer. I absolutely love Tellicherry Peppercorns, just not these. As soon as the box arrived I opened the box revealing 4 small plastic zip-lock style bags with a paper seal on each. I eagerly opened one ready for the pungent peppery smell I\\'ve always enjoyed from Tellicherry Peppercorns but it wasn\\'t there. I opened another bag with the same results. There was a mild pepper scent but it wasn\\'t pungent or even fresh smelling. I don\\'t know if I received old stock or what the problem was.They are better than the peppercorns you can buy in your corner grocery store, but not by much. Although the price has changed and they are no longer available in a two-pack I\\'ll go back to the brand I\\'m familiar with\"Peppercorns Black Whole, Tellicherry Certified Organic - 1 lb\"and will avoid Melina\\'s products in the future. At least with the Frontier I know I\\'ll be receiving truely pungent, aromatic tellicherry peppercorns. I gave two stars only because the Melina\\'s are slightly better than peppercorns found in most supermarkets which are not sold as \"Tellicherry\".Update: After looking at the bags more closely and hoping to find a packaging date of some sort I found nothing that could be a date stamp, batch code or anything else that may help me determine what is not right with this pepper.']\n",
      "['My decision to purchase a bagless upright, the Bissell Cleanview, was made because I could no longer find bags locally for my other upright.The Bissell does a great job vacuuming carpets and picking up pet hair. I have no complaints about the performance. It has excellent suction and gets the deep down dirt and dust. The dirt cup is easy to remove, empty, and replace. The extension hose is strechier and of better quality than most of the competition in this price range.It doesn\\'t have features such as a dirt-sensor, an on-off switch for the revolving brushes, or a floating cleaning head (it uses a manual height adjustment knob). What it lacks in features it makes up for by it\\'s low purchase price and good performance.Why only 4 stars? It does have a few draw-backs of which some are inherent to a bagless vac.*Although the manual says monthly, the foam filters really need to be cleaned after each use. By the time you remove them, wash them, and reinstall them, it would have been a lot faster and less messy to just change a bag.*Anyone who thinks they will be saving money by not having to buy bags is just kidding themselves. All the filters can be rinsed and reused, including the hepa filter, but they will eventually have to be replaced. If you replace the hepa filter yearly you\\'ll far surpass the cost of bags - and this model has one of the less expensive ones.*Surprisingly for it\\'s light weight it\\'s harder to push on some carpets than my older upright which weighs almost 10 lbs more.*The noise level is on the high side.In summary: The Bissell performs well and I don\\'t regret the purchase. Performance is equal to my bagged upright which cost more than triple the price but I\\'m going to keep searching for bags for my other upright because of the hassle of cleaning all the filters. I was pleasantly surprised at the ability of this little vac to pick up pet hair. Removing the handle is accomplished easily to facilitate cleaning pet hair from furniture. The vac can be operated with the revolving brush on or off by selecting the appropriate setting at the switch.It\\'s great for small quick cleanups on carpet or cleaning bare floors. Make no mistake, this is not a replacement for a full-size, full-power vac. As a test I used this product on a section of heavy-traffic carpet that went two weeks without cleaning. It picked up the pet hair fairly well and filled it\\'s dust cup. I then cleaned the same section with a new Bissel Cleanview Bagless upright (I\\'ve also written a review for the Bissel). The Bissel picked up enough pet hair, dust and dirt to fill the Eureka\\'s dust cup several times. The dust cup on the Eureka is easy to remove but messy to empty and tapping it to remove the dust results in dust flying everywhere.Keeping in mind what it\\'s designed for, I give the Eureka Boss Superbroom 4 stars. If you have lots of carpeting in your home, don\\'t even consider this to be your primary vac. As a primary vac I would give it only one star. It has become nearly impossible to find glass sun tea jars anymore and I\\'m tired of the plastic ones slowly deforming in the dishwasher (even with heat dry off). I thought I\\'d found the \"perfect jar\" for making sun tea with a wide mouth as show in the picture. Alas and alack, the picture of the jar is in error and does not correctly represent the actual shape of this otherwise excellent glass jar. The mouth is much narrower than a person would believe by the picture.I ordered my jar through Amazon to take advantage of Amazon Prime as well as the knowledge that Amazon would take care of the problem should any issues arise. The jar arrived well packaged and undamaged. The rubber gasket was inside the jar so as not to be lost.The jar itself seems to be of excellent quality and has survived trips through the dishwasher and even a few light bangs and bumps. My only reason for deducting one star is that the picture does not truely represent the size of the opening which I had hoped would allow a ', 'I was pleasantly surprised when I began using the Sunbeam Health at Home heating pad (756-500). It heats up quickly and the heat is consistent. The controller is very easy to use, especially for those of us with arthritic hands.There are no fancy features on this pad. No auto shut-off, no moist heat, an inexpensive cotton cover, and it is not over-sized. For the price I can\\'t complain. The consistent, even heat more than makes up for the lack of features. This is replacing another brand which cost more than three times as much, was slow to heat and did not maintain a constant temperature (varied from too hot to not enough heat regardless of the setting).If you are looking for a basic heating pad that actually works well, this one will fill the bill. Canes are pretty basic items but very important to those of us who need them. The Medline Offset Handle Cane has a wide height adjustment range. I\\'m 6\\'3\" and the cane still had two more adjustment holes to go higher.Although my weight is higher than the recommended max, I do not feel any flexing and do not hesitate to put my entire weight on it as needed.This is a recommended product at a very attractive price.Update: 11/30/2011I\\'ve developed a very bad habit of leaving my canes in shopping carts after I\\'ve unloaded my groceries, especially at night. My last cane I bought locally and was a different brand. On it the foam padding had started splitting and when I realized I\\'d lost it I immediately ordered this Medline Offset Handle Cane again. I keep a spare folding cane in the trunk of my car as well as one in the house but neither have the nice soft handle and being folding models they aren\\'t partidularly sturdy.No more will I buy another brand. The foam padding on the handle is thicker and much more comfortable than other brands I\\'ve used. Most offset handle canes have the same adjustable design but the Medline just seems sturdier. As canes go it remains one of the best bargains on Amazon. The Duro-Med Deluxe Sock Aid is excellent. Due to a bad hip I was unable to put on my socks without assistance. This product is easy to use and durable. After more than 8 years of taking this or a similar product I can say that my joint comfort level has improved. However, I did not notice any significant difference between the Move Free Advanced Triple Strength and another name brand product I frequently purchase.One thing I did notice after switching to the Move Free this time is that my right knee seems to pop more than it did while using the other brand. I do need a complete hip replacement and both knees replaced so it is possible that after a recent fall the knee is worse, not because of the product, but because of the fall to my knees. For that I really cannot fault the product. It does seem to work over-all as well as any I\\'ve tried and is better than most. I really don\\'t notice the improvement because it does happen slowly, especially if your joints are in bad condition as mine are. However, I can certainly tell the difference if I stop taking a Glucosamine/Chondroitin product and this is one of 2 brands I keep in stock at my house.If you are looking for a product of this type to ease joint pain I can recommend this product. Of all the products on the market I feel this one is definitely in the top 2. As a person with severe arthritis in hips and knees it has been challenging to rise from a seated position. The home I purchased recently does not have a counter next to the toilet in the master bath and the wall on the opposite side of the room was too far away for grab bars. Enter the VersaFrame. I\\'m now able to stand after using the toilet without the need to call for assistance.Installation was very easy and would require only that the toilet seat be removed and re-installed (in most cases only a screwdriver would be needed). As I was also installing a new toilet seat, it took only an extra minute to install the VersaFrame. This went onto a ADA height toilet with elongated bowl and fit perfectly.']\n",
      "['My decision to purchase a bagless upright, the Bissell Cleanview, was made because I could no longer find bags locally for my other upright.The Bissell does a great job vacuuming carpets and picking up pet hair. I have no complaints about the performance. It has excellent suction and gets the deep down dirt and dust. The dirt cup is easy to remove, empty, and replace. The extension hose is strechier and of better quality than most of the competition in this price range.It doesn\\'t have features such as a dirt-sensor, an on-off switch for the revolving brushes, or a floating cleaning head (it uses a manual height adjustment knob). What it lacks in features it makes up for by it\\'s low purchase price and good performance.Why only 4 stars? It does have a few draw-backs of which some are inherent to a bagless vac.*Although the manual says monthly, the foam filters really need to be cleaned after each use. By the time you remove them, wash them, and reinstall them, it would have been a lot faster and less messy to just change a bag.*Anyone who thinks they will be saving money by not having to buy bags is just kidding themselves. All the filters can be rinsed and reused, including the hepa filter, but they will eventually have to be replaced. If you replace the hepa filter yearly you\\'ll far surpass the cost of bags - and this model has one of the less expensive ones.*Surprisingly for it\\'s light weight it\\'s harder to push on some carpets than my older upright which weighs almost 10 lbs more.*The noise level is on the high side.In summary: The Bissell performs well and I don\\'t regret the purchase. Performance is equal to my bagged upright which cost more than triple the price but I\\'m going to keep searching for bags for my other upright because of the hassle of cleaning all the filters. I was pleasantly surprised at the ability of this little vac to pick up pet hair. Removing the handle is accomplished easily to facilitate cleaning pet hair from furniture. The vac can be operated with the revolving brush on or off by selecting the appropriate setting at the switch.It\\'s great for small quick cleanups on carpet or cleaning bare floors. Make no mistake, this is not a replacement for a full-size, full-power vac. As a test I used this product on a section of heavy-traffic carpet that went two weeks without cleaning. It picked up the pet hair fairly well and filled it\\'s dust cup. I then cleaned the same section with a new Bissel Cleanview Bagless upright (I\\'ve also written a review for the Bissel). The Bissel picked up enough pet hair, dust and dirt to fill the Eureka\\'s dust cup several times. The dust cup on the Eureka is easy to remove but messy to empty and tapping it to remove the dust results in dust flying everywhere.Keeping in mind what it\\'s designed for, I give the Eureka Boss Superbroom 4 stars. If you have lots of carpeting in your home, don\\'t even consider this to be your primary vac. As a primary vac I would give it only one star. It has become nearly impossible to find glass sun tea jars anymore and I\\'m tired of the plastic ones slowly deforming in the dishwasher (even with heat dry off). I thought I\\'d found the \"perfect jar\" for making sun tea with a wide mouth as show in the picture. Alas and alack, the picture of the jar is in error and does not correctly represent the actual shape of this otherwise excellent glass jar. The mouth is much narrower than a person would believe by the picture.I ordered my jar through Amazon to take advantage of Amazon Prime as well as the knowledge that Amazon would take care of the problem should any issues arise. The jar arrived well packaged and undamaged. The rubber gasket was inside the jar so as not to be lost.The jar itself seems to be of excellent quality and has survived trips through the dishwasher and even a few light bangs and bumps. My only reason for deducting one star is that the picture does not truely represent the size of the opening which I had hoped would allow a ', \"This is a replacement for the original Trackman Marble which lasted for nearly 10 years of heavy use. If this products lasts even half as long I'll be very happy. However, take note, it can only be used for right-handed people.Operation is very smooth as it was with the Trackman Marble. It is very comfortable to use and fits the shape of nearly every hand. The two buttons as well as the wheel are programmable with the included Setpoint software. My software was already installed on my Windows Vista Premium computer when I installed the Logitech Wave Keyboard. Installation was fast and easy. Setpoint integrates all functions for all Logitech keyboards, mice, and trackballs. It is very convenient to have one program that controls multiple devices. Included is Logitech Messenger which periodically checks for software updates.I did see one complaint that using the thumb ball isn't as fast as using a ball controlled by the fingers. The speed of the cursor can be adjusted with the software. That person may have not realized it could be adjusted or perhaps chose not to install the software. If software is not installed, the Microsoft software has fewer control and programming options.Now for the flaw. The old marble's ball was easy to remove to clean. On the Trackman Wheeel Optical, there is a small hole on the bottom plate under the ball. Theoretically, dust and dirt should drop through this hole. In reality, dust and lint do not drop out but instead build up inside the compartment making the ball more difficult to move and respond erratically. To clean, remove the 4 screws on the bottom plate, remove the plate and carefully use canned air or a soft brush to remove the lint from all surfaces that contact the ball. I then use a q-tip moistened with household rubbing alcohol to clean the optical window. I am a fanatic about keeping my computer and peripherals clean and this procedure adds only a few minutes to my monthly cleanings, I will not deduct any stars although it is a step backwards from the older design. I bought my Finepix 2650 before Christmas 2002 so I could have a small camera instead of lugging around my SLR and bags of equipment. I didn't expect great shots from an inexpensive, pocket-sized camera, but WOW, I was truely amazed at the great results. The 2650 blows away my Canon Elan IIe for consistantly good color balance and overall image quality.Is it the perfect digital camera? No, but it's about the best you'll find in this price range and even among those costing a couple of hundred more. It's packed with features and I've experienced zero problems in the 4 months I've owned it.Pros:*Great overall image quality*Small but not too small*Good selection of picture modes*Accurate focus*MP3 movies (no sound)*XD picture card*Good battery lifeCons:*Menu (you have to surf to find what your looking for and memorize the symbols since it doesn't give text descriptions)*Somewhat slow shutter speed (set to the equivalent of 100 asa 35mm film)*Crummy, ad-filled software (if you have XP don't even bother installing it)After experimenting with several of the modes available, I'm happy to leave it in full-auto which gives great reults for 98% of my shots, indoor and out. I haven't even used my SLR since buying the Fuji. The zoom lense is adequate except for extreme long range shots (but how many people own 500mm lenses for their SLRs anyway?) For anyone who complains about weak flash - the flash is as good as any in a small camera, it won't illuminate a stadium, but it's not meant to.Last but not least, the XD picture card. Yes it's proprietary and currently only Fuji and Olympus use it. It's extremely fast, amazingly small, works well and is not over-priced compared to other media. I dare-say anyone who has a complaint about proprietary issues hasn't changed an ink cartidge in their printer and probably still uses floppy-discs for their primary data storage.Great Job Fuji !!! If you have a superzoom or a DSLR with standard lense (maybe \"]\n",
      "['After trying it once, I keep my pantry stocked with Zatarain\\'s Jambalaya mix. Making Jambalaya from scratch can be daunting but this is perfectly seasoned out of the box. I\\'ve tried using a variety of meats, chicken, and sausage and never tire of the flavor.This is a \"must have\" for those who love authentic Jambalaya but don\\'t want to make it from scratch. My first experience with Kitchens of India was with their Curry Paste Variety Pack. Of those, my favorite was the Chicken Curry so this time I bought only the Chicken Curry Paste.It is very easy to use. Put the paste in a pan, blend with water, and your chicken, and soon you\\'ll have a very good and authentic tasting chicken dish. For someone like me who\\'s favorite kitchen appliance is the microwave oven this is great. I\\'ve only been able to eat Indian Cousine a few times in a restaurant but the spicy, delectable foods were memorable. Using this curry paste allows me to bring that flavor to my kitchen, it contains all the seasonings so nothing needs to be added unless you want to kick it up a bit. I\\'ll sometimes add a little extra red pepper and curry powder for that extra bit of heat that I love.It\\'s a great product at a great price and I plan to keep it stocked in my kitchen. This is the first \"Donut House\" coffee I\\'ve tried that really made me remember the coffee at the Donut House of years gone by and is the smoothest K-cup I\\'ve experienced yet. It is truely a coffee you can enjoy at any time.I read one review in which the reviewer stated that this was watery in comparison to theCoffee People Donut Shop Medium Roast, Extra Bold for Keurig Brewers, 24-Count K-Cups (Pack of 2). If all you drink is dark roast or extra bold you might agree. However, because the blend is so versitile you can brew a smaller cup for a stronger taste or if you prefer a lighter taste, brew a larger cup. Not everyone prefers a dark roast coffee or one that is so strong that your spoon nearly stands in it unassisted (Turkish coffee for example).Since dark roasts have become more popular it is more difficult to find a medium or lighter roast with good flavor. Whether you enjoy a few cups in the morning, drink a warming cup while reading a book on a rainy day or enjoy a cup with your friends. This coffee will fill the bill. I\\'ve yet to hear a complaint from any friends when I brew this blend to their personal preferences. Now that is versatility.The Timothy\\'s Original Donut Blend is the best all around k-cup coffee I\\'ve had and would not hesitate to recommend or serve it to friends or coffee connoisseurs alike. These peppercorns looked to be a good buy and in 4 sealed bags I could keep them fresher longer. I absolutely love Tellicherry Peppercorns, just not these. As soon as the box arrived I opened the box revealing 4 small plastic zip-lock style bags with a paper seal on each. I eagerly opened one ready for the pungent peppery smell I\\'ve always enjoyed from Tellicherry Peppercorns but it wasn\\'t there. I opened another bag with the same results. There was a mild pepper scent but it wasn\\'t pungent or even fresh smelling. I don\\'t know if I received old stock or what the problem was.They are better than the peppercorns you can buy in your corner grocery store, but not by much. Although the price has changed and they are no longer available in a two-pack I\\'ll go back to the brand I\\'m familiar with\"Peppercorns Black Whole, Tellicherry Certified Organic - 1 lb\"and will avoid Melina\\'s products in the future. At least with the Frontier I know I\\'ll be receiving truely pungent, aromatic tellicherry peppercorns. I gave two stars only because the Melina\\'s are slightly better than peppercorns found in most supermarkets which are not sold as \"Tellicherry\".Update: After looking at the bags more closely and hoping to find a packaging date of some sort I found nothing that could be a date stamp, batch code or anything else that may help me determine what is not right with this pepper.', 'I was pleasantly surprised when I began using the Sunbeam Health at Home heating pad (756-500). It heats up quickly and the heat is consistent. The controller is very easy to use, especially for those of us with arthritic hands.There are no fancy features on this pad. No auto shut-off, no moist heat, an inexpensive cotton cover, and it is not over-sized. For the price I can\\'t complain. The consistent, even heat more than makes up for the lack of features. This is replacing another brand which cost more than three times as much, was slow to heat and did not maintain a constant temperature (varied from too hot to not enough heat regardless of the setting).If you are looking for a basic heating pad that actually works well, this one will fill the bill. Canes are pretty basic items but very important to those of us who need them. The Medline Offset Handle Cane has a wide height adjustment range. I\\'m 6\\'3\" and the cane still had two more adjustment holes to go higher.Although my weight is higher than the recommended max, I do not feel any flexing and do not hesitate to put my entire weight on it as needed.This is a recommended product at a very attractive price.Update: 11/30/2011I\\'ve developed a very bad habit of leaving my canes in shopping carts after I\\'ve unloaded my groceries, especially at night. My last cane I bought locally and was a different brand. On it the foam padding had started splitting and when I realized I\\'d lost it I immediately ordered this Medline Offset Handle Cane again. I keep a spare folding cane in the trunk of my car as well as one in the house but neither have the nice soft handle and being folding models they aren\\'t partidularly sturdy.No more will I buy another brand. The foam padding on the handle is thicker and much more comfortable than other brands I\\'ve used. Most offset handle canes have the same adjustable design but the Medline just seems sturdier. As canes go it remains one of the best bargains on Amazon. The Duro-Med Deluxe Sock Aid is excellent. Due to a bad hip I was unable to put on my socks without assistance. This product is easy to use and durable. After more than 8 years of taking this or a similar product I can say that my joint comfort level has improved. However, I did not notice any significant difference between the Move Free Advanced Triple Strength and another name brand product I frequently purchase.One thing I did notice after switching to the Move Free this time is that my right knee seems to pop more than it did while using the other brand. I do need a complete hip replacement and both knees replaced so it is possible that after a recent fall the knee is worse, not because of the product, but because of the fall to my knees. For that I really cannot fault the product. It does seem to work over-all as well as any I\\'ve tried and is better than most. I really don\\'t notice the improvement because it does happen slowly, especially if your joints are in bad condition as mine are. However, I can certainly tell the difference if I stop taking a Glucosamine/Chondroitin product and this is one of 2 brands I keep in stock at my house.If you are looking for a product of this type to ease joint pain I can recommend this product. Of all the products on the market I feel this one is definitely in the top 2. As a person with severe arthritis in hips and knees it has been challenging to rise from a seated position. The home I purchased recently does not have a counter next to the toilet in the master bath and the wall on the opposite side of the room was too far away for grab bars. Enter the VersaFrame. I\\'m now able to stand after using the toilet without the need to call for assistance.Installation was very easy and would require only that the toilet seat be removed and re-installed (in most cases only a screwdriver would be needed). As I was also installing a new toilet seat, it took only an extra minute to install the VersaFrame. This went onto a ADA height toilet with elongated bowl and fit perfectly.']\n",
      "['After trying it once, I keep my pantry stocked with Zatarain\\'s Jambalaya mix. Making Jambalaya from scratch can be daunting but this is perfectly seasoned out of the box. I\\'ve tried using a variety of meats, chicken, and sausage and never tire of the flavor.This is a \"must have\" for those who love authentic Jambalaya but don\\'t want to make it from scratch. My first experience with Kitchens of India was with their Curry Paste Variety Pack. Of those, my favorite was the Chicken Curry so this time I bought only the Chicken Curry Paste.It is very easy to use. Put the paste in a pan, blend with water, and your chicken, and soon you\\'ll have a very good and authentic tasting chicken dish. For someone like me who\\'s favorite kitchen appliance is the microwave oven this is great. I\\'ve only been able to eat Indian Cousine a few times in a restaurant but the spicy, delectable foods were memorable. Using this curry paste allows me to bring that flavor to my kitchen, it contains all the seasonings so nothing needs to be added unless you want to kick it up a bit. I\\'ll sometimes add a little extra red pepper and curry powder for that extra bit of heat that I love.It\\'s a great product at a great price and I plan to keep it stocked in my kitchen. This is the first \"Donut House\" coffee I\\'ve tried that really made me remember the coffee at the Donut House of years gone by and is the smoothest K-cup I\\'ve experienced yet. It is truely a coffee you can enjoy at any time.I read one review in which the reviewer stated that this was watery in comparison to theCoffee People Donut Shop Medium Roast, Extra Bold for Keurig Brewers, 24-Count K-Cups (Pack of 2). If all you drink is dark roast or extra bold you might agree. However, because the blend is so versitile you can brew a smaller cup for a stronger taste or if you prefer a lighter taste, brew a larger cup. Not everyone prefers a dark roast coffee or one that is so strong that your spoon nearly stands in it unassisted (Turkish coffee for example).Since dark roasts have become more popular it is more difficult to find a medium or lighter roast with good flavor. Whether you enjoy a few cups in the morning, drink a warming cup while reading a book on a rainy day or enjoy a cup with your friends. This coffee will fill the bill. I\\'ve yet to hear a complaint from any friends when I brew this blend to their personal preferences. Now that is versatility.The Timothy\\'s Original Donut Blend is the best all around k-cup coffee I\\'ve had and would not hesitate to recommend or serve it to friends or coffee connoisseurs alike. These peppercorns looked to be a good buy and in 4 sealed bags I could keep them fresher longer. I absolutely love Tellicherry Peppercorns, just not these. As soon as the box arrived I opened the box revealing 4 small plastic zip-lock style bags with a paper seal on each. I eagerly opened one ready for the pungent peppery smell I\\'ve always enjoyed from Tellicherry Peppercorns but it wasn\\'t there. I opened another bag with the same results. There was a mild pepper scent but it wasn\\'t pungent or even fresh smelling. I don\\'t know if I received old stock or what the problem was.They are better than the peppercorns you can buy in your corner grocery store, but not by much. Although the price has changed and they are no longer available in a two-pack I\\'ll go back to the brand I\\'m familiar with\"Peppercorns Black Whole, Tellicherry Certified Organic - 1 lb\"and will avoid Melina\\'s products in the future. At least with the Frontier I know I\\'ll be receiving truely pungent, aromatic tellicherry peppercorns. I gave two stars only because the Melina\\'s are slightly better than peppercorns found in most supermarkets which are not sold as \"Tellicherry\".Update: After looking at the bags more closely and hoping to find a packaging date of some sort I found nothing that could be a date stamp, batch code or anything else that may help me determine what is not right with this pepper.', \"This is a replacement for the original Trackman Marble which lasted for nearly 10 years of heavy use. If this products lasts even half as long I'll be very happy. However, take note, it can only be used for right-handed people.Operation is very smooth as it was with the Trackman Marble. It is very comfortable to use and fits the shape of nearly every hand. The two buttons as well as the wheel are programmable with the included Setpoint software. My software was already installed on my Windows Vista Premium computer when I installed the Logitech Wave Keyboard. Installation was fast and easy. Setpoint integrates all functions for all Logitech keyboards, mice, and trackballs. It is very convenient to have one program that controls multiple devices. Included is Logitech Messenger which periodically checks for software updates.I did see one complaint that using the thumb ball isn't as fast as using a ball controlled by the fingers. The speed of the cursor can be adjusted with the software. That person may have not realized it could be adjusted or perhaps chose not to install the software. If software is not installed, the Microsoft software has fewer control and programming options.Now for the flaw. The old marble's ball was easy to remove to clean. On the Trackman Wheeel Optical, there is a small hole on the bottom plate under the ball. Theoretically, dust and dirt should drop through this hole. In reality, dust and lint do not drop out but instead build up inside the compartment making the ball more difficult to move and respond erratically. To clean, remove the 4 screws on the bottom plate, remove the plate and carefully use canned air or a soft brush to remove the lint from all surfaces that contact the ball. I then use a q-tip moistened with household rubbing alcohol to clean the optical window. I am a fanatic about keeping my computer and peripherals clean and this procedure adds only a few minutes to my monthly cleanings, I will not deduct any stars although it is a step backwards from the older design. I bought my Finepix 2650 before Christmas 2002 so I could have a small camera instead of lugging around my SLR and bags of equipment. I didn't expect great shots from an inexpensive, pocket-sized camera, but WOW, I was truely amazed at the great results. The 2650 blows away my Canon Elan IIe for consistantly good color balance and overall image quality.Is it the perfect digital camera? No, but it's about the best you'll find in this price range and even among those costing a couple of hundred more. It's packed with features and I've experienced zero problems in the 4 months I've owned it.Pros:*Great overall image quality*Small but not too small*Good selection of picture modes*Accurate focus*MP3 movies (no sound)*XD picture card*Good battery lifeCons:*Menu (you have to surf to find what your looking for and memorize the symbols since it doesn't give text descriptions)*Somewhat slow shutter speed (set to the equivalent of 100 asa 35mm film)*Crummy, ad-filled software (if you have XP don't even bother installing it)After experimenting with several of the modes available, I'm happy to leave it in full-auto which gives great reults for 98% of my shots, indoor and out. I haven't even used my SLR since buying the Fuji. The zoom lense is adequate except for extreme long range shots (but how many people own 500mm lenses for their SLRs anyway?) For anyone who complains about weak flash - the flash is as good as any in a small camera, it won't illuminate a stadium, but it's not meant to.Last but not least, the XD picture card. Yes it's proprietary and currently only Fuji and Olympus use it. It's extremely fast, amazingly small, works well and is not over-priced compared to other media. I dare-say anyone who has a complaint about proprietary issues hasn't changed an ink cartidge in their printer and probably still uses floppy-discs for their primary data storage.Great Job Fuji !!! If you have a superzoom or a DSLR with standard lense (maybe \"]\n",
      "['I was pleasantly surprised when I began using the Sunbeam Health at Home heating pad (756-500). It heats up quickly and the heat is consistent. The controller is very easy to use, especially for those of us with arthritic hands.There are no fancy features on this pad. No auto shut-off, no moist heat, an inexpensive cotton cover, and it is not over-sized. For the price I can\\'t complain. The consistent, even heat more than makes up for the lack of features. This is replacing another brand which cost more than three times as much, was slow to heat and did not maintain a constant temperature (varied from too hot to not enough heat regardless of the setting).If you are looking for a basic heating pad that actually works well, this one will fill the bill. Canes are pretty basic items but very important to those of us who need them. The Medline Offset Handle Cane has a wide height adjustment range. I\\'m 6\\'3\" and the cane still had two more adjustment holes to go higher.Although my weight is higher than the recommended max, I do not feel any flexing and do not hesitate to put my entire weight on it as needed.This is a recommended product at a very attractive price.Update: 11/30/2011I\\'ve developed a very bad habit of leaving my canes in shopping carts after I\\'ve unloaded my groceries, especially at night. My last cane I bought locally and was a different brand. On it the foam padding had started splitting and when I realized I\\'d lost it I immediately ordered this Medline Offset Handle Cane again. I keep a spare folding cane in the trunk of my car as well as one in the house but neither have the nice soft handle and being folding models they aren\\'t partidularly sturdy.No more will I buy another brand. The foam padding on the handle is thicker and much more comfortable than other brands I\\'ve used. Most offset handle canes have the same adjustable design but the Medline just seems sturdier. As canes go it remains one of the best bargains on Amazon. The Duro-Med Deluxe Sock Aid is excellent. Due to a bad hip I was unable to put on my socks without assistance. This product is easy to use and durable. After more than 8 years of taking this or a similar product I can say that my joint comfort level has improved. However, I did not notice any significant difference between the Move Free Advanced Triple Strength and another name brand product I frequently purchase.One thing I did notice after switching to the Move Free this time is that my right knee seems to pop more than it did while using the other brand. I do need a complete hip replacement and both knees replaced so it is possible that after a recent fall the knee is worse, not because of the product, but because of the fall to my knees. For that I really cannot fault the product. It does seem to work over-all as well as any I\\'ve tried and is better than most. I really don\\'t notice the improvement because it does happen slowly, especially if your joints are in bad condition as mine are. However, I can certainly tell the difference if I stop taking a Glucosamine/Chondroitin product and this is one of 2 brands I keep in stock at my house.If you are looking for a product of this type to ease joint pain I can recommend this product. Of all the products on the market I feel this one is definitely in the top 2. As a person with severe arthritis in hips and knees it has been challenging to rise from a seated position. The home I purchased recently does not have a counter next to the toilet in the master bath and the wall on the opposite side of the room was too far away for grab bars. Enter the VersaFrame. I\\'m now able to stand after using the toilet without the need to call for assistance.Installation was very easy and would require only that the toilet seat be removed and re-installed (in most cases only a screwdriver would be needed). As I was also installing a new toilet seat, it took only an extra minute to install the VersaFrame. This went onto a ADA height toilet with elongated bowl and fit perfectly.', \"This is a replacement for the original Trackman Marble which lasted for nearly 10 years of heavy use. If this products lasts even half as long I'll be very happy. However, take note, it can only be used for right-handed people.Operation is very smooth as it was with the Trackman Marble. It is very comfortable to use and fits the shape of nearly every hand. The two buttons as well as the wheel are programmable with the included Setpoint software. My software was already installed on my Windows Vista Premium computer when I installed the Logitech Wave Keyboard. Installation was fast and easy. Setpoint integrates all functions for all Logitech keyboards, mice, and trackballs. It is very convenient to have one program that controls multiple devices. Included is Logitech Messenger which periodically checks for software updates.I did see one complaint that using the thumb ball isn't as fast as using a ball controlled by the fingers. The speed of the cursor can be adjusted with the software. That person may have not realized it could be adjusted or perhaps chose not to install the software. If software is not installed, the Microsoft software has fewer control and programming options.Now for the flaw. The old marble's ball was easy to remove to clean. On the Trackman Wheeel Optical, there is a small hole on the bottom plate under the ball. Theoretically, dust and dirt should drop through this hole. In reality, dust and lint do not drop out but instead build up inside the compartment making the ball more difficult to move and respond erratically. To clean, remove the 4 screws on the bottom plate, remove the plate and carefully use canned air or a soft brush to remove the lint from all surfaces that contact the ball. I then use a q-tip moistened with household rubbing alcohol to clean the optical window. I am a fanatic about keeping my computer and peripherals clean and this procedure adds only a few minutes to my monthly cleanings, I will not deduct any stars although it is a step backwards from the older design. I bought my Finepix 2650 before Christmas 2002 so I could have a small camera instead of lugging around my SLR and bags of equipment. I didn't expect great shots from an inexpensive, pocket-sized camera, but WOW, I was truely amazed at the great results. The 2650 blows away my Canon Elan IIe for consistantly good color balance and overall image quality.Is it the perfect digital camera? No, but it's about the best you'll find in this price range and even among those costing a couple of hundred more. It's packed with features and I've experienced zero problems in the 4 months I've owned it.Pros:*Great overall image quality*Small but not too small*Good selection of picture modes*Accurate focus*MP3 movies (no sound)*XD picture card*Good battery lifeCons:*Menu (you have to surf to find what your looking for and memorize the symbols since it doesn't give text descriptions)*Somewhat slow shutter speed (set to the equivalent of 100 asa 35mm film)*Crummy, ad-filled software (if you have XP don't even bother installing it)After experimenting with several of the modes available, I'm happy to leave it in full-auto which gives great reults for 98% of my shots, indoor and out. I haven't even used my SLR since buying the Fuji. The zoom lense is adequate except for extreme long range shots (but how many people own 500mm lenses for their SLRs anyway?) For anyone who complains about weak flash - the flash is as good as any in a small camera, it won't illuminate a stadium, but it's not meant to.Last but not least, the XD picture card. Yes it's proprietary and currently only Fuji and Olympus use it. It's extremely fast, amazingly small, works well and is not over-priced compared to other media. I dare-say anyone who has a complaint about proprietary issues hasn't changed an ink cartidge in their printer and probably still uses floppy-discs for their primary data storage.Great Job Fuji !!! If you have a superzoom or a DSLR with standard lense (maybe \"]\n"
     ]
    }
   ],
   "source": [
    "for combo in itertools.combinations(text_data.text[text_data.user_id == test_user].to_list(), 2):\n",
    "    print(list(combo))"
   ]
  },
  {
   "cell_type": "code",
   "execution_count": 46,
   "metadata": {},
   "outputs": [],
   "source": [
    "import random"
   ]
  },
  {
   "cell_type": "code",
   "execution_count": 51,
   "metadata": {},
   "outputs": [
    {
     "name": "stdout",
     "output_type": "stream",
     "text": [
      "A2RL1RS6PWUHWI\n",
      "A3VONQL7YW8UPM\n",
      "A1D1IDI5S9TN9D\n",
      "A1D1IDI5S9TN9D\n",
      "A3F3B1JPACN215\n"
     ]
    }
   ],
   "source": [
    "test_poss = itertools.combinations(test_users, 2)\n",
    "test_pairs = random.sample(list(test_poss), 5)\n",
    "for pair in test_pairs:\n",
    "    print(pair[0])"
   ]
  },
  {
   "cell_type": "code",
   "execution_count": 52,
   "metadata": {},
   "outputs": [],
   "source": [
    "def create_json(users, split = \"train\"):\n",
    "    fname = \"../datasets/processed_amazon/amazon_\" + split + \".jsonl\"\n",
    "    \n",
    "    data_dict_list = []\n",
    "\n",
    "    problem_id = 0\n",
    "\n",
    "    # same source pairs\n",
    "    for user in users:\n",
    "        user_texts = text_data.text[text_data.user_id == user].to_list()\n",
    "        for combo in itertools.combinations(user_texts, 2):\n",
    "            data_dict = {\n",
    "                'id': str(problem_id),\n",
    "                'same': True,\n",
    "                'authors': [user, user],\n",
    "                'pair': list(combo)\n",
    "            }\n",
    "            problem_id+=1\n",
    "            data_dict_list.append(data_dict)\n",
    "    \n",
    "    n_ss = problem_id\n",
    "\n",
    "    # diff source pairs\n",
    "    poss_ds = list(itertools.combinations(users, 2))\n",
    "    ds_pairs = random.sample(poss_ds, n_ss)\n",
    "    for pair in ds_pairs:\n",
    "        user0 = pair[0]\n",
    "        user1 = pair[1]\n",
    "        user0_text = random.sample(text_data.text[text_data.user_id == user0].to_list(), 1)\n",
    "        user1_text = random.sample(text_data.text[text_data.user_id == user1].to_list(), 1)\n",
    "        data_dict = {\n",
    "            'id': str(problem_id),\n",
    "            'same': False,\n",
    "            'authors': [user0_text, user1_text],\n",
    "            'pair': [user0, user1]\n",
    "        }\n",
    "        problem_id+=1\n",
    "        data_dict_list.append(data_dict)\n",
    "\n",
    "    # write to file\n",
    "    with open(fname, 'w') as f:\n",
    "        for data_dict in data_dict_list:\n",
    "            json.dump(data_dict, f)\n",
    "            f.write(\"\\n\")"
   ]
  },
  {
   "cell_type": "code",
   "execution_count": 53,
   "metadata": {},
   "outputs": [],
   "source": [
    "create_json(train_users, \"train\")"
   ]
  },
  {
   "cell_type": "code",
   "execution_count": 54,
   "metadata": {},
   "outputs": [],
   "source": [
    "create_json(test_users, \"test\")"
   ]
  }
 ],
 "metadata": {
  "kernelspec": {
   "display_name": "text-forensics",
   "language": "python",
   "name": "text-forensics"
  },
  "language_info": {
   "codemirror_mode": {
    "name": "ipython",
    "version": 3
   },
   "file_extension": ".py",
   "mimetype": "text/x-python",
   "name": "python",
   "nbconvert_exporter": "python",
   "pygments_lexer": "ipython3",
   "version": "3.11.7"
  }
 },
 "nbformat": 4,
 "nbformat_minor": 2
}
